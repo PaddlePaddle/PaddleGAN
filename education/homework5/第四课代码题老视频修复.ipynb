{
 "cells": [
  {
   "cell_type": "markdown",
   "metadata": {
    "collapsed": false
   },
   "source": [
    "# 老北京城影像修复\n",
    "\n",
    "本项目运用[PaddleGAN](https://github.com/PaddlePaddle/PaddleGAN)实现了百年前老北京城视频的复原，其中将详细讲解如何运用视频的上色、超分辨率（提高清晰度）、插帧（提高流畅度）等AI修复技术，让那些先辈们的一举一动，一颦一簇都宛若眼前之人。\n",
    "\n",
    "当然，如果大家觉得这个项目有趣好用的话，希望大家能够为我们[PaddleGAN](https://github.com/PaddlePaddle/PaddleGAN)的[Github主页](https://github.com/PaddlePaddle/PaddleGAN)点Star噢~\n",
    "\n",
    "<div align='center'>\n",
    "  <img src='https://ai-studio-static-online.cdn.bcebos.com/47cea097a0284dd39fc2804a53aa8ee6dad16ffe104641258046eb05af49cd64' width='1000'/>\n",
    "</div>\n",
    "\n",
    "</br>\n",
    "<div align='center'>\n",
    "  <img src='https://ai-studio-static-online.cdn.bcebos.com/99da82cb4c0143dfa45e40c5eb13dd4543ab55daf70f4313b81eef434d1a1ff7' width='800'/>\n",
    "</div>"
   ]
  },
  {
   "cell_type": "markdown",
   "metadata": {
    "collapsed": false
   },
   "source": [
    "## 安装PaddleGAN\n",
    "\n",
    "PaddleGAN的安装目前支持Clone GitHub和Gitee两种方式："
   ]
  },
  {
   "cell_type": "code",
   "execution_count": 1,
   "metadata": {
    "collapsed": false
   },
   "outputs": [
    {
     "name": "stdout",
     "output_type": "stream",
     "text": [
      "Cloning into 'PaddleGAN'...\n",
      "remote: Enumerating objects: 2977, done.\u001b[K\n",
      "remote: Counting objects: 100% (2977/2977), done.\u001b[K\n",
      "remote: Compressing objects: 100% (1741/1741), done.\u001b[K\n",
      "Receiving objects:  46% (1389/2977), 1.53 MiB | 371.00 KiB/s     \r"
     ]
    }
   ],
   "source": [
    "# 安装ppgan\n",
    "# 当前目录在: /home/aistudio/, 这个目录也是左边文件和文件夹所在的目录\n",
    "# 克隆最新的PaddleGAN仓库到当前目录\n",
    "# !git clone https://github.com/PaddlePaddle/PaddleGAN.git\n",
    "# 如果从github下载慢可以从gitee clone：\n",
    "!git clone https://gitee.com/paddlepaddle/PaddleGAN.git\n",
    "%cd PaddleGAN/\n",
    "!pip install -v -e ."
   ]
  },
  {
   "cell_type": "markdown",
   "metadata": {
    "collapsed": false
   },
   "source": [
    "## PaddleGAN中要使用的预测模型介绍\n",
    "### 补帧模型DAIN\n",
    "DAIN 模型通过探索深度的信息来显式检测遮挡。并且开发了一个深度感知的流投影层来合成中间流。在视频补帧方面有较好的效果。\n",
    "![](./images/dain_network.png)\n",
    "\n",
    "```\n",
    "ppgan.apps.DAINPredictor(\n",
    "                        output_path='output',\n",
    "                        weight_path=None,\n",
    "                        time_step=None,\n",
    "                        use_gpu=True,\n",
    "                        remove_duplicates=False)\n",
    "```\n",
    "#### 参数\n",
    "\n",
    "- `output_path (str，可选的)`: 输出的文件夹路径，默认值：`output`.\n",
    "- `weight_path (None，可选的)`: 载入的权重路径，如果没有设置，则从云端下载默认的权重到本地。默认值：`None`。\n",
    "- `time_step (int)`: 补帧的时间系数，如果设置为0.5，则原先为每秒30帧的视频，补帧后变为每秒60帧。\n",
    "- `remove_duplicates (bool，可选的)`: 是否删除重复帧，默认值：`False`.\n",
    "\n",
    "### 上色模型DeOldifyPredictor\n",
    "DeOldify 采用自注意力机制的生成对抗网络，生成器是一个U-NET结构的网络。在图像的上色方面有着较好的效果。\n",
    "![](./images/deoldify_network.png)\n",
    "\n",
    "```\n",
    "ppgan.apps.DeOldifyPredictor(output='output', weight_path=None, render_factor=32)\n",
    "```\n",
    "#### 参数\n",
    "\n",
    "- `output_path (str，可选的)`: 输出的文件夹路径，默认值：`output`.\n",
    "- `weight_path (None，可选的)`: 载入的权重路径，如果没有设置，则从云端下载默认的权重到本地。默认值：`None`。\n",
    "- `render_factor (int)`: 会将该参数乘以16后作为输入帧的resize的值，如果该值设置为32，\n",
    "                         则输入帧会resize到(32 * 16, 32 * 16)的尺寸再输入到网络中。\n",
    "\n",
    "### 上色模型DeepRemasterPredictor\n",
    "DeepRemaster 模型基于时空卷积神经网络和自注意力机制。并且能够根据输入的任意数量的参考帧对图片进行上色。\n",
    "![](./images/remaster_network.png)\n",
    "\n",
    "```\n",
    "ppgan.apps.DeepRemasterPredictor(\n",
    "                                output='output',\n",
    "                                weight_path=None,\n",
    "                                colorization=False,\n",
    "                                reference_dir=None,\n",
    "                                mindim=360):\n",
    "```\n",
    "#### 参数\n",
    "\n",
    "- `output_path (str，可选的)`: 输出的文件夹路径，默认值：`output`.\n",
    "- `weight_path (None，可选的)`: 载入的权重路径，如果没有设置，则从云端下载默认的权重到本地。默认值：`None`。\n",
    "- `colorization (bool)`: 是否对输入视频上色，如果选项设置为 `True` ，则参考帧的文件夹路径也必须要设置。默认值：`False`。\n",
    "- `reference_dir (bool)`: 参考帧的文件夹路径。默认值：`None`。\n",
    "- `mindim (bool)`: 输入帧重新resize后的短边的大小。默认值：360。\n",
    "\n",
    "### 超分辨率模型RealSRPredictor\n",
    "RealSR模型通过估计各种模糊内核以及实际噪声分布，为现实世界的图像设计一种新颖的真实图片降采样框架。基于该降采样框架，可以获取与真实世界图像共享同一域的低分辨率图像。并且提出了一个旨在提高感知度的真实世界超分辨率模型。对合成噪声数据和真实世界图像进行的大量实验表明，该模型能够有效降低了噪声并提高了视觉质量。\n",
    "\n",
    "![](./images/realsr_network.png)\n",
    "\n",
    "```\n",
    "ppgan.apps.RealSRPredictor(output='output', weight_path=None)\n",
    "```\n",
    "#### 参数\n",
    "\n",
    "- `output_path (str，可选的)`: 输出的文件夹路径，默认值：`output`.\n",
    "- `weight_path (None，可选的)`: 载入的权重路径，如果没有设置，则从云端下载默认的权重到本地。默认值：`None`。\n",
    "\n",
    "### 超分辨率模型EDVRPredictor\n",
    "EDVR模型提出了一个新颖的视频具有增强可变形卷积的还原框架：第一，为了处理大动作而设计的一个金字塔，级联和可变形（PCD）对齐模块，使用可变形卷积以从粗到精的方式在特征级别完成对齐；第二，提出时空注意力机制（TSA）融合模块，在时间和空间上都融合了注意机制，用以增强复原的功能。\n",
    "![](./images/edvr_network.png)\n",
    "\n",
    "```\n",
    "ppgan.apps.EDVRPredictor(output='output', weight_path=None)\n",
    "```\n",
    "#### 参数\n",
    "\n",
    "- `output_path (str，可选的)`: 输出的文件夹路径，默认值：`output`.\n",
    "- `weight_path (None，可选的)`: 载入的权重路径，如果没有设置，则从云端下载默认的权重到本地。默认值：`None`。"
   ]
  },
  {
   "cell_type": "markdown",
   "metadata": {
    "collapsed": false
   },
   "source": [
    "## 使用PaddleGAN进行视频修复"
   ]
  },
  {
   "cell_type": "code",
   "execution_count": 3,
   "metadata": {
    "collapsed": false
   },
   "outputs": [],
   "source": [
    "# 导入一些可视化需要的包\n",
    "import cv2\n",
    "import imageio\n",
    "import numpy as np\n",
    "import matplotlib.pyplot as plt\n",
    "import matplotlib.animation as animation\n",
    "from IPython.display import HTML\n",
    "import warnings\n",
    "warnings.filterwarnings(\"ignore\")"
   ]
  },
  {
   "cell_type": "code",
   "execution_count": 4,
   "metadata": {
    "collapsed": false
   },
   "outputs": [],
   "source": [
    "# 定义一个展示视频的函数\n",
    "def display(driving, fps, size=(8, 6)):\n",
    "    fig = plt.figure(figsize=size)\n",
    "\n",
    "    ims = []\n",
    "    for i in range(len(driving)):\n",
    "        cols = []\n",
    "        cols.append(driving[i])\n",
    "\n",
    "        im = plt.imshow(np.concatenate(cols, axis=1), animated=True)\n",
    "        plt.axis('off')\n",
    "        ims.append([im])\n",
    "\n",
    "    video = animation.ArtistAnimation(fig, ims, interval=1000.0/fps, repeat_delay=1000)\n",
    "\n",
    "    plt.close()\n",
    "    return video"
   ]
  },
  {
   "cell_type": "code",
   "execution_count": 9,
   "metadata": {
    "collapsed": false
   },
   "outputs": [],
   "source": [
    "# 展示一下输入的视频, 如果视频太大，时间会非常久，可以跳过这个步骤\n",
    "video_path = '/home/aistudio/Peking_input360p_clip6_5s.mp4'\n",
    "video_frames = imageio.mimread(video_path, memtest=False)\n",
    "\n",
    "# 获得视频的原分辨率\n",
    "cap = cv2.VideoCapture(video_path)\n",
    "fps = cap.get(cv2.CAP_PROP_FPS)\n",
    "    \n",
    "\n",
    "HTML(display(video_frames, fps).to_html5_video())"
   ]
  },
  {
   "cell_type": "code",
   "execution_count": 7,
   "metadata": {
    "collapsed": false
   },
   "outputs": [],
   "source": [
    "# 使用插帧(DAIN), 上色(DeOldify), 超分(EDVR)这三个模型对该视频进行修复\n",
    "# input参数表示输入的视频路径\n",
    "# output表示处理后的视频的存放文件夹\n",
    "# proccess_order 表示使用的模型和顺序（目前支持）\n",
    "%cd /home/aistudio/PaddleGAN/applications/\n",
    "!python tools/video-enhance.py --input /home/aistudio/Peking_input360p_clip6_5s.mp4 \\\n",
    "                               --process_order DAIN DeOldify EDVR \\\n",
    "                               --output output_dir"
   ]
  },
  {
   "cell_type": "code",
   "execution_count": 8,
   "metadata": {
    "collapsed": false
   },
   "outputs": [],
   "source": [
    "# 展示一下处理好的视频, 如果视频太大，时间会非常久，可以下载下来看\n",
    "# 这个路径可以查看上个code cell的最后打印的output video path\n",
    "output_video_path = '/home/aistudio/PaddleGAN/applications/output_dir/EDVR/Peking_input360p_clip6_5s_deoldify_out_edvr_out.mp4'\n",
    "\n",
    "video_frames = imageio.mimread(output_video_path, memtest=False)\n",
    "\n",
    "# 获得视频的原分辨率\n",
    "cap = cv2.VideoCapture(output_video_path)\n",
    "fps = cap.get(cv2.CAP_PROP_FPS)\n",
    "    \n",
    "\n",
    "HTML(display(video_frames, fps, size=(16, 12)).to_html5_video())"
   ]
  }
 ],
 "metadata": {
  "kernelspec": {
   "display_name": "PaddlePaddle 2.0.0b0 (Python 3.5)",
   "language": "python",
   "name": "py35-paddle1.2.0"
  },
  "language_info": {
   "codemirror_mode": {
    "name": "ipython",
    "version": 3
   },
   "file_extension": ".py",
   "mimetype": "text/x-python",
   "name": "python",
   "nbconvert_exporter": "python",
   "pygments_lexer": "ipython3",
   "version": "3.7.4"
  }
 },
 "nbformat": 4,
 "nbformat_minor": 1
}
